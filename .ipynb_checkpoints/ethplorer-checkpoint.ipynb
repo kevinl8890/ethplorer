{
 "cells": [
  {
   "cell_type": "code",
   "execution_count": 7,
   "metadata": {},
   "outputs": [
    {
     "name": "stdout",
     "output_type": "stream",
     "text": [
      "Success get data.\n",
      "CSV output success.\n"
     ]
    }
   ],
   "source": [
    "# Program: ethplorer.ipynb\n",
    "# Ethplorer holders data fetch\n",
    "# Output write CSV file named optput.csv\n",
    "# Author: Kevin Liu\n",
    "# Date: 2018-09-30\n",
    "# Ver: 0.3\n",
    "\n",
    "import requests\n",
    "import json\n",
    "import csv\n",
    "\n",
    "res = requests.get('https://ethplorer.io/service/service.php?refresh=holders&data=0x503F9794d6A6bB0Df8FBb19a2b3e2Aeab35339Ad&page=tab%3Dtab-holders%26pageSize%3D49999&showTx=all')\n",
    "\n",
    "if res.status_code == 200:\n",
    "    \n",
    "    data = json.loads(res.text)\n",
    "    print('Success get data.')\n",
    "  \n",
    "    # Write JSON to CSV\n",
    "\n",
    "    with open('output.csv', 'w', newline='') as csvfile:\n",
    "    \n",
    "        fieldnames = ['address', 'balance', 'share']\n",
    "        writer = csv.DictWriter(csvfile, fieldnames=fieldnames)\n",
    "    \n",
    "        writer.writeheader()\n",
    "    \n",
    "        for csvline in data['holders']:\n",
    "            writer.writerow(csvline)\n",
    "\n",
    "    print('CSV output success.')    \n",
    "    \n",
    "    csvfile.close\n",
    "    \n",
    "else:\n",
    "    \n",
    "    print('Connection server fail.')\n",
    "\n",
    "    "
   ]
  },
  {
   "cell_type": "code",
   "execution_count": null,
   "metadata": {},
   "outputs": [],
   "source": []
  }
 ],
 "metadata": {
  "kernelspec": {
   "display_name": "Python 3",
   "language": "python",
   "name": "python3"
  },
  "language_info": {
   "codemirror_mode": {
    "name": "ipython",
    "version": 3
   },
   "file_extension": ".py",
   "mimetype": "text/x-python",
   "name": "python",
   "nbconvert_exporter": "python",
   "pygments_lexer": "ipython3",
   "version": "3.6.3"
  }
 },
 "nbformat": 4,
 "nbformat_minor": 2
}
